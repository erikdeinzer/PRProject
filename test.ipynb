{
 "cells": [
  {
   "cell_type": "markdown",
   "id": "b94978fb",
   "metadata": {},
   "source": [
    "# Basic Network"
   ]
  },
  {
   "cell_type": "markdown",
   "id": "095985a4",
   "metadata": {},
   "source": [
    "# Basic Model build"
   ]
  },
  {
   "cell_type": "code",
   "execution_count": 1,
   "id": "028f9366",
   "metadata": {},
   "outputs": [],
   "source": [
    "from dataset import DatasetLoader\n",
    "from registry import TRANSFORMS, MODELS, OPTIMIZERS, RUNNERS, build_module, build_modules_list\n",
    "from runners import KFoldRunner\n",
    "import modules\n",
    "\n",
    "dataset_config = {\n",
    "    \"name\": \"ENZYMES\",\n",
    "    \"root\": \"./data\",\n",
    "    \"transforms\": [\n",
    "        {\"type\": \"ToUndirected\"},\n",
    "        {\"type\": \"NormalizeFeatures\"},\n",
    "        {\"type\": \"RandomNodeSplit\"},],\n",
    "}\n",
    "\n",
    "model_config = {\n",
    "    'type': 'GCNv2',\n",
    "    'in_channels': 'auto',  # Number of input features - auto chooses the input features from the dataset\n",
    "    'hidden_channels': 64,\n",
    "    'out_channels': 6,  # Number of classes\n",
    "}\n",
    "\n",
    "optim_config = {\n",
    "    \"type\": \"Adam\",\n",
    "    \"lr\": 0.01,\n",
    "    \"weight_decay\": 5e-4,\n",
    "}\n",
    "\n",
    "\"\"\"split_cfg = {\n",
    "    \"type\": \"KFoldRunner\",\n",
    "    \"num_folds\": 5,\n",
    "    \"shuffle\": True,\n",
    "    \"random_state\": 42,\n",
    "}\"\"\"\n",
    "\n",
    "split_cfg = {\n",
    "    'type': 'SplitRunner',\n",
    "    'train_ratio': 0.8\n",
    "}\n",
    "\n",
    "train_config = {\n",
    "    \"batch_size\": 32,\n",
    "    \"train_epochs\": 50,\n",
    "    \"optimizer\": optim_config\n",
    "}"
   ]
  },
  {
   "cell_type": "code",
   "execution_count": 2,
   "id": "46b434e8",
   "metadata": {},
   "outputs": [
    {
     "name": "stdout",
     "output_type": "stream",
     "text": [
      "Error fetching online stats: Dataset 'ENZYMES' not found on the TUDataset description https://chrsmrrs.github.io/datasets/docs/datasets/.\n"
     ]
    }
   ],
   "source": [
    "loader = DatasetLoader(**dataset_config)"
   ]
  },
  {
   "cell_type": "code",
   "execution_count": 3,
   "id": "cd904c7a",
   "metadata": {},
   "outputs": [
    {
     "name": "stdout",
     "output_type": "stream",
     "text": [
      "Runner: SplitRunner\n",
      "Model: GCNv2\n",
      "Dataset: TUDataset\n",
      "Train epochs: 50\n",
      "Batch size: 32\n",
      "Log interval: 10\n",
      "Validation interval: 1\n",
      "--------------------------------------------------\n",
      "Dataset Info:\n",
      "Number of graphs: 600\n",
      "Number of features: 3\n",
      "Number of classes: 6\n",
      "--------------------------------------------------\n",
      "Model Info:\n",
      "Model config: {'type': 'GCNv2', 'in_channels': 3, 'hidden_channels': 64, 'out_channels': 6}\n"
     ]
    },
    {
     "ename": "AttributeError",
     "evalue": "module 'torch_geometric.nn' has no attribute 'ModuleList'",
     "output_type": "error",
     "traceback": [
      "\u001b[1;31m---------------------------------------------------------------------------\u001b[0m",
      "\u001b[1;31mAttributeError\u001b[0m                            Traceback (most recent call last)",
      "Cell \u001b[1;32mIn[3], line 1\u001b[0m\n\u001b[1;32m----> 1\u001b[0m runner \u001b[38;5;241m=\u001b[39m \u001b[43mbuild_module\u001b[49m\u001b[43m(\u001b[49m\n\u001b[0;32m      2\u001b[0m \u001b[43m    \u001b[49m\u001b[43mregistry\u001b[49m\u001b[38;5;241;43m=\u001b[39;49m\u001b[43mRUNNERS\u001b[49m\u001b[43m,\u001b[49m\n\u001b[0;32m      3\u001b[0m \u001b[43m    \u001b[49m\u001b[43mcfg\u001b[49m\u001b[38;5;241;43m=\u001b[39;49m\u001b[43msplit_cfg\u001b[49m\u001b[43m,\u001b[49m\n\u001b[0;32m      4\u001b[0m \u001b[43m    \u001b[49m\u001b[43mdataset\u001b[49m\u001b[38;5;241;43m=\u001b[39;49m\u001b[43mloader\u001b[49m\u001b[38;5;241;43m.\u001b[39;49m\u001b[43mget_dataset\u001b[49m\u001b[43m(\u001b[49m\u001b[43m)\u001b[49m\u001b[43m,\u001b[49m\n\u001b[0;32m      5\u001b[0m \u001b[43m    \u001b[49m\u001b[43mmodel_config\u001b[49m\u001b[43m \u001b[49m\u001b[38;5;241;43m=\u001b[39;49m\u001b[43m \u001b[49m\u001b[43mmodel_config\u001b[49m\u001b[43m,\u001b[49m\n\u001b[0;32m      6\u001b[0m \u001b[43m    \u001b[49m\u001b[43mtrain_config\u001b[49m\u001b[43m \u001b[49m\u001b[38;5;241;43m=\u001b[39;49m\u001b[43m \u001b[49m\u001b[43mtrain_config\u001b[49m\u001b[43m,\u001b[49m\n\u001b[0;32m      7\u001b[0m \u001b[43m)\u001b[49m\n",
      "File \u001b[1;32me:\\OneDrive Students\\OneDrive - Students RWTH Aachen University\\Erasmus\\PRProject\\registry.py:42\u001b[0m, in \u001b[0;36mbuild_module\u001b[1;34m(cfg, registry, **kwargs)\u001b[0m\n\u001b[0;32m     40\u001b[0m cfg\u001b[38;5;241m.\u001b[39mupdate(kwargs)\n\u001b[0;32m     41\u001b[0m \u001b[38;5;28mcls\u001b[39m \u001b[38;5;241m=\u001b[39m registry\u001b[38;5;241m.\u001b[39mget(cfg\u001b[38;5;241m.\u001b[39mpop(\u001b[38;5;124m'\u001b[39m\u001b[38;5;124mtype\u001b[39m\u001b[38;5;124m'\u001b[39m))\n\u001b[1;32m---> 42\u001b[0m \u001b[38;5;28;01mreturn\u001b[39;00m \u001b[38;5;28;43mcls\u001b[39;49m\u001b[43m(\u001b[49m\u001b[38;5;241;43m*\u001b[39;49m\u001b[38;5;241;43m*\u001b[39;49m\u001b[43mcfg\u001b[49m\u001b[43m)\u001b[49m\n",
      "File \u001b[1;32me:\\OneDrive Students\\OneDrive - Students RWTH Aachen University\\Erasmus\\PRProject\\runners\\split_runner.py:24\u001b[0m, in \u001b[0;36mSplitRunner.__init__\u001b[1;34m(self, train_ratio, **kwargs)\u001b[0m\n\u001b[0;32m     20\u001b[0m \u001b[38;5;28msuper\u001b[39m()\u001b[38;5;241m.\u001b[39m\u001b[38;5;21m__init__\u001b[39m(\u001b[38;5;241m*\u001b[39m\u001b[38;5;241m*\u001b[39mkwargs)\n\u001b[0;32m     22\u001b[0m \u001b[38;5;28mself\u001b[39m\u001b[38;5;241m.\u001b[39mtrain_ratio \u001b[38;5;241m=\u001b[39m train_ratio\n\u001b[1;32m---> 24\u001b[0m \u001b[38;5;28mself\u001b[39m\u001b[38;5;241m.\u001b[39mmodel \u001b[38;5;241m=\u001b[39m \u001b[43mbuild_module\u001b[49m\u001b[43m(\u001b[49m\u001b[38;5;28;43mself\u001b[39;49m\u001b[38;5;241;43m.\u001b[39;49m\u001b[43mmodel_config\u001b[49m\u001b[43m,\u001b[49m\u001b[43m \u001b[49m\u001b[43mMODELS\u001b[49m\u001b[43m)\u001b[49m\n\u001b[0;32m     25\u001b[0m \u001b[38;5;28mself\u001b[39m\u001b[38;5;241m.\u001b[39moptimizer \u001b[38;5;241m=\u001b[39m build_module(\u001b[38;5;28mself\u001b[39m\u001b[38;5;241m.\u001b[39mtrain_config[\u001b[38;5;124m'\u001b[39m\u001b[38;5;124moptimizer\u001b[39m\u001b[38;5;124m'\u001b[39m], OPTIMIZERS, params\u001b[38;5;241m=\u001b[39m\u001b[38;5;28mself\u001b[39m\u001b[38;5;241m.\u001b[39mmodel\u001b[38;5;241m.\u001b[39mparameters())\n\u001b[0;32m     27\u001b[0m \u001b[38;5;66;03m# Create split\u001b[39;00m\n",
      "File \u001b[1;32me:\\OneDrive Students\\OneDrive - Students RWTH Aachen University\\Erasmus\\PRProject\\registry.py:42\u001b[0m, in \u001b[0;36mbuild_module\u001b[1;34m(cfg, registry, **kwargs)\u001b[0m\n\u001b[0;32m     40\u001b[0m cfg\u001b[38;5;241m.\u001b[39mupdate(kwargs)\n\u001b[0;32m     41\u001b[0m \u001b[38;5;28mcls\u001b[39m \u001b[38;5;241m=\u001b[39m registry\u001b[38;5;241m.\u001b[39mget(cfg\u001b[38;5;241m.\u001b[39mpop(\u001b[38;5;124m'\u001b[39m\u001b[38;5;124mtype\u001b[39m\u001b[38;5;124m'\u001b[39m))\n\u001b[1;32m---> 42\u001b[0m \u001b[38;5;28;01mreturn\u001b[39;00m \u001b[38;5;28;43mcls\u001b[39;49m\u001b[43m(\u001b[49m\u001b[38;5;241;43m*\u001b[39;49m\u001b[38;5;241;43m*\u001b[39;49m\u001b[43mcfg\u001b[49m\u001b[43m)\u001b[49m\n",
      "File \u001b[1;32me:\\OneDrive Students\\OneDrive - Students RWTH Aachen University\\Erasmus\\PRProject\\modules\\base_models\\gcn.py:14\u001b[0m, in \u001b[0;36mGCNv2.__init__\u001b[1;34m(self, in_channels, out_channels, hidden_channels, num_layers)\u001b[0m\n\u001b[0;32m     11\u001b[0m \u001b[38;5;28mself\u001b[39m\u001b[38;5;241m.\u001b[39mnum_layers \u001b[38;5;241m=\u001b[39m num_layers\n\u001b[0;32m     12\u001b[0m \u001b[38;5;28mself\u001b[39m\u001b[38;5;241m.\u001b[39min_conv \u001b[38;5;241m=\u001b[39m nn\u001b[38;5;241m.\u001b[39mGCNConv(in_channels, hidden_channels)\n\u001b[1;32m---> 14\u001b[0m \u001b[38;5;28mself\u001b[39m\u001b[38;5;241m.\u001b[39mhidden_convs \u001b[38;5;241m=\u001b[39m \u001b[38;5;28mself\u001b[39m\u001b[38;5;241m.\u001b[39mhidden_convs \u001b[38;5;241m=\u001b[39m \u001b[43mnn\u001b[49m\u001b[38;5;241;43m.\u001b[39;49m\u001b[43mModuleList\u001b[49m([\n\u001b[0;32m     15\u001b[0m     nn\u001b[38;5;241m.\u001b[39mGCNConv(hidden_channels, hidden_channels) \u001b[38;5;28;01mfor\u001b[39;00m _ \u001b[38;5;129;01min\u001b[39;00m \u001b[38;5;28mrange\u001b[39m(num_layers \u001b[38;5;241m-\u001b[39m \u001b[38;5;241m1\u001b[39m)\n\u001b[0;32m     16\u001b[0m ])\n\u001b[0;32m     17\u001b[0m \u001b[38;5;28mself\u001b[39m\u001b[38;5;241m.\u001b[39mlin \u001b[38;5;241m=\u001b[39m torch\u001b[38;5;241m.\u001b[39mnn\u001b[38;5;241m.\u001b[39mLinear(hidden_channels, out_channels)\n",
      "\u001b[1;31mAttributeError\u001b[0m: module 'torch_geometric.nn' has no attribute 'ModuleList'"
     ]
    }
   ],
   "source": [
    "runner = build_module(\n",
    "    registry=RUNNERS,\n",
    "    cfg=split_cfg,\n",
    "    dataset=loader.get_dataset(),\n",
    "    model_config = model_config,\n",
    "    train_config = train_config,\n",
    ")"
   ]
  },
  {
   "cell_type": "code",
   "execution_count": null,
   "id": "248ca72d",
   "metadata": {},
   "outputs": [
    {
     "name": "stdout",
     "output_type": "stream",
     "text": [
      "\n",
      "Training model on 480 samples, testing on 120 samples.\n",
      "\n",
      "Epoch 050/50 | [██████████] | Train Loss: 1.6834 | Val Loss: 1.7388 | Acc: 0.2667 | \n",
      "Final evaluation:\n",
      "Test accuracy: 0.2667\n"
     ]
    }
   ],
   "source": [
    "runner.run()"
   ]
  },
  {
   "cell_type": "code",
   "execution_count": null,
   "id": "078a6b0a",
   "metadata": {},
   "outputs": [],
   "source": []
  }
 ],
 "metadata": {
  "kernelspec": {
   "display_name": "Python 3",
   "language": "python",
   "name": "python3"
  },
  "language_info": {
   "codemirror_mode": {
    "name": "ipython",
    "version": 3
   },
   "file_extension": ".py",
   "mimetype": "text/x-python",
   "name": "python",
   "nbconvert_exporter": "python",
   "pygments_lexer": "ipython3",
   "version": "3.11.9"
  }
 },
 "nbformat": 4,
 "nbformat_minor": 5
}
