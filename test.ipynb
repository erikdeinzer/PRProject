{
 "cells": [
  {
   "cell_type": "markdown",
   "id": "b94978fb",
   "metadata": {},
   "source": [
    "# Basic Network"
   ]
  },
  {
   "cell_type": "markdown",
   "id": "095985a4",
   "metadata": {},
   "source": [
    "# Basic Model build"
   ]
  },
  {
   "cell_type": "code",
   "execution_count": null,
   "id": "028f9366",
   "metadata": {},
   "outputs": [],
   "source": [
    "from dataset import DatasetLoader\n",
    "from registry import TRANSFORMS, MODULES, OPTIMIZERS, RUNNERS, build_module, build_modules_list\n",
    "from runners import KFoldRunner\n",
    "import modules\n",
    "\n",
    "dataset_config = {\n",
    "    \"name\": \"ENZYMES\",\n",
    "    \"root\": \"./data\",\n",
    "    \"transforms\": [\n",
    "        {\"type\": \"ToUndirected\"},\n",
    "        {\"type\": \"NormalizeFeatures\"},\n",
    "        {\"type\": \"RandomNodeSplit\"},],\n",
    "}\n",
    "\n",
    "model_config = {\n",
    "    'type': 'GINv2',\n",
    "    'in_channels': 'auto',  # Number of input features - auto chooses the input features from the dataset\n",
    "    'hidden_channels': 64,\n",
    "    'out_channels': 6,  # Number of classes\n",
    "}\n",
    "\n",
    "optim_config = {\n",
    "    \"type\": \"Adam\",\n",
    "    \"lr\": 0.01,\n",
    "    \"weight_decay\": 5e-4,\n",
    "}\n",
    "\n",
    "split_cfg = {\n",
    "    'type': 'SplitRunner',\n",
    "    'train_ratio': 0.8\n",
    "}\n",
    "\n",
    "train_config = {\n",
    "    \"batch_size\": 32,\n",
    "    \"train_epochs\": 500,\n",
    "    \"optimizer\": optim_config\n",
    "}"
   ]
  },
  {
   "cell_type": "code",
   "execution_count": 2,
   "id": "46b434e8",
   "metadata": {},
   "outputs": [],
   "source": [
    "loader = DatasetLoader(**dataset_config)"
   ]
  },
  {
   "cell_type": "code",
   "execution_count": 4,
   "id": "cd904c7a",
   "metadata": {},
   "outputs": [
    {
     "name": "stdout",
     "output_type": "stream",
     "text": [
      "Runner: SplitRunner\n",
      "Model: GINv2\n",
      "Dataset: TUDataset\n",
      "Train epochs: 500\n",
      "Batch size: 32\n",
      "Log interval: 10\n",
      "Validation interval: 1\n",
      "--------------------------------------------------\n",
      "Dataset Info:\n",
      "  dataset: ENZYMES\n",
      "  num_graphs: 600\n",
      "  num_classes: 6\n",
      "  num_node_features: 3\n",
      "  avg_nodes_per_graph: 32.63333333333333\n",
      "  max_nodes: 126\n",
      "  min_nodes: 2\n",
      "  is_homogeneous: True\n",
      "  avg_edges: 62.14\n",
      "  node_labels: True\n",
      "  edge_labels: False\n",
      "  node_attr: 18\n",
      "  geometry: None\n",
      "  edge_attr: False\n",
      "--------------------------------------------------\n",
      "Model Info:\n",
      "Model config: {'type': 'GINv2', 'in_channels': 3, 'hidden_channels': 64, 'out_channels': 6}\n"
     ]
    }
   ],
   "source": [
    "runner = build_module(\n",
    "    registry=RUNNERS,\n",
    "    cfg=split_cfg,\n",
    "    dataset_loader=loader,\n",
    "    model_config = model_config,\n",
    "    train_config = train_config,\n",
    ")"
   ]
  },
  {
   "cell_type": "code",
   "execution_count": 5,
   "id": "248ca72d",
   "metadata": {},
   "outputs": [
    {
     "name": "stdout",
     "output_type": "stream",
     "text": [
      "\n",
      "Training model on 480 samples, testing on 120 samples.\n",
      "\n",
      "Epoch 500/500 | [██████████] | Train Loss: 1.5121 | Val Loss: 1.7827 | Acc: 0.3250 | \n",
      "Final evaluation:\n",
      "Test accuracy: 0.3250\n"
     ]
    }
   ],
   "source": [
    "runner.run()"
   ]
  },
  {
   "cell_type": "code",
   "execution_count": null,
   "id": "078a6b0a",
   "metadata": {},
   "outputs": [],
   "source": [
    "from GraphFW.datasets.tudataset import TUDatasetLoader"
   ]
  },
  {
   "cell_type": "code",
   "execution_count": null,
   "id": "21d8e3db",
   "metadata": {},
   "outputs": [],
   "source": []
  },
  {
   "cell_type": "code",
   "execution_count": null,
   "id": "4ae01389",
   "metadata": {},
   "outputs": [
    {
     "ename": "AttributeError",
     "evalue": "'TUDataset' object has no attribute 'dataset'",
     "output_type": "error",
     "traceback": [
      "\u001b[1;31m---------------------------------------------------------------------------\u001b[0m",
      "\u001b[1;31mAttributeError\u001b[0m                            Traceback (most recent call last)",
      "Cell \u001b[1;32mIn[4], line 5\u001b[0m\n\u001b[0;32m      1\u001b[0m ds \u001b[38;5;241m=\u001b[39m TUDataset(\n\u001b[0;32m      2\u001b[0m     name\u001b[38;5;241m=\u001b[39m\u001b[38;5;124m'\u001b[39m\u001b[38;5;124mPROTEINS\u001b[39m\u001b[38;5;124m'\u001b[39m,\n\u001b[0;32m      3\u001b[0m     root\u001b[38;5;241m=\u001b[39m\u001b[38;5;124m'\u001b[39m\u001b[38;5;124m./data\u001b[39m\u001b[38;5;124m'\u001b[39m)\n\u001b[1;32m----> 5\u001b[0m \u001b[43mds\u001b[49m\u001b[38;5;241;43m.\u001b[39;49m\u001b[43mdataset\u001b[49m\n",
      "File \u001b[1;32m~\\AppData\\Local\\Packages\\PythonSoftwareFoundation.Python.3.11_qbz5n2kfra8p0\\LocalCache\\local-packages\\Python311\\site-packages\\torch_geometric\\data\\in_memory_dataset.py:318\u001b[0m, in \u001b[0;36mInMemoryDataset.__getattr__\u001b[1;34m(self, key)\u001b[0m\n\u001b[0;32m    315\u001b[0m         data_list \u001b[38;5;241m=\u001b[39m [\u001b[38;5;28mself\u001b[39m\u001b[38;5;241m.\u001b[39mget(i) \u001b[38;5;28;01mfor\u001b[39;00m i \u001b[38;5;129;01min\u001b[39;00m \u001b[38;5;28mself\u001b[39m\u001b[38;5;241m.\u001b[39mindices()]\n\u001b[0;32m    316\u001b[0m         \u001b[38;5;28;01mreturn\u001b[39;00m Batch\u001b[38;5;241m.\u001b[39mfrom_data_list(data_list)[key]\n\u001b[1;32m--> 318\u001b[0m \u001b[38;5;28;01mraise\u001b[39;00m \u001b[38;5;167;01mAttributeError\u001b[39;00m(\u001b[38;5;124mf\u001b[39m\u001b[38;5;124m\"\u001b[39m\u001b[38;5;124m'\u001b[39m\u001b[38;5;132;01m{\u001b[39;00m\u001b[38;5;28mself\u001b[39m\u001b[38;5;241m.\u001b[39m\u001b[38;5;18m__class__\u001b[39m\u001b[38;5;241m.\u001b[39m\u001b[38;5;18m__name__\u001b[39m\u001b[38;5;132;01m}\u001b[39;00m\u001b[38;5;124m'\u001b[39m\u001b[38;5;124m object has no \u001b[39m\u001b[38;5;124m\"\u001b[39m\n\u001b[0;32m    319\u001b[0m                      \u001b[38;5;124mf\u001b[39m\u001b[38;5;124m\"\u001b[39m\u001b[38;5;124mattribute \u001b[39m\u001b[38;5;124m'\u001b[39m\u001b[38;5;132;01m{\u001b[39;00mkey\u001b[38;5;132;01m}\u001b[39;00m\u001b[38;5;124m'\u001b[39m\u001b[38;5;124m\"\u001b[39m)\n",
      "\u001b[1;31mAttributeError\u001b[0m: 'TUDataset' object has no attribute 'dataset'"
     ]
    }
   ],
   "source": [
    "ds = TUDataset(\n",
    "    name='PROTEINS',\n",
    "    root='./data')"
   ]
  },
  {
   "cell_type": "code",
   "execution_count": null,
   "id": "23b71681",
   "metadata": {},
   "outputs": [],
   "source": []
  }
 ],
 "metadata": {
  "kernelspec": {
   "display_name": "Python 3",
   "language": "python",
   "name": "python3"
  },
  "language_info": {
   "codemirror_mode": {
    "name": "ipython",
    "version": 3
   },
   "file_extension": ".py",
   "mimetype": "text/x-python",
   "name": "python",
   "nbconvert_exporter": "python",
   "pygments_lexer": "ipython3",
   "version": "3.11.9"
  }
 },
 "nbformat": 4,
 "nbformat_minor": 5
}
