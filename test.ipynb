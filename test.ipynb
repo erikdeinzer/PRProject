{
 "cells": [
  {
   "cell_type": "markdown",
   "id": "b94978fb",
   "metadata": {},
   "source": [
    "# Basic Network"
   ]
  },
  {
   "cell_type": "markdown",
   "id": "095985a4",
   "metadata": {},
   "source": [
    "# Basic Model build"
   ]
  },
  {
   "cell_type": "code",
   "execution_count": 1,
   "id": "028f9366",
   "metadata": {},
   "outputs": [],
   "source": [
    "from dataset import DatasetLoader\n",
    "from registry import TRANSFORMS, MODELS, OPTIMIZERS, RUNNERS, build_module, build_modules_list\n",
    "from runners import KFoldRunner\n",
    "import modules\n",
    "\n",
    "dataset_config = {\n",
    "    \"name\": \"ENZYMES\",\n",
    "    \"root\": \"./data\",\n",
    "    \"transforms\": [{\"type\": \"ToUndirected\"}],\n",
    "}\n",
    "\n",
    "model_config = {\n",
    "    'type': 'GCNv2',\n",
    "    'in_channels': 'auto',  # Number of input features - auto chooses the input features from the dataset\n",
    "    'hidden_channels': 64,\n",
    "    'out_channels': 6,  # Number of classes\n",
    "}\n",
    "\n",
    "optim_config = {\n",
    "    \"type\": \"Adam\",\n",
    "    \"lr\": 0.01,\n",
    "    \"weight_decay\": 5e-4,\n",
    "}\n",
    "\n",
    "\"\"\"split_cfg = {\n",
    "    \"type\": \"KFoldRunner\",\n",
    "    \"num_folds\": 5,\n",
    "    \"shuffle\": True,\n",
    "    \"random_state\": 42,\n",
    "}\"\"\"\n",
    "\n",
    "split_cfg = {\n",
    "    'type': 'SplitRunner',\n",
    "    'train_ratio': 0.8\n",
    "}\n",
    "\n",
    "train_config = {\n",
    "    \"batch_size\": 32,\n",
    "    \"train_epochs\": 50,\n",
    "    \"optimizer\": optim_config\n",
    "}"
   ]
  },
  {
   "cell_type": "code",
   "execution_count": 2,
   "id": "46b434e8",
   "metadata": {},
   "outputs": [
    {
     "name": "stdout",
     "output_type": "stream",
     "text": [
      "Error fetching online stats: Dataset 'ENZYMES' not found on the TUDataset description https://chrsmrrs.github.io/datasets/docs/datasets/.\n"
     ]
    }
   ],
   "source": [
    "loader = DatasetLoader(**dataset_config)"
   ]
  },
  {
   "cell_type": "code",
   "execution_count": null,
   "id": "cd904c7a",
   "metadata": {},
   "outputs": [
    {
     "name": "stdout",
     "output_type": "stream",
     "text": [
      "Runner: SplitRunner\n",
      "Model: GCNv2\n",
      "Dataset: TUDataset\n",
      "Train epochs: 50\n",
      "Batch size: 32\n",
      "Log interval: 10\n",
      "Validation interval: 1\n",
      "--------------------------------------------------\n",
      "Dataset Info:\n",
      "Number of graphs: 600\n",
      "Number of features: 3\n",
      "Number of classes: 6\n",
      "--------------------------------------------------\n",
      "Model Info:\n",
      "Model config: {'type': 'GCNv2', 'in_channels': 3, 'hidden_channels': 64, 'out_channels': 6}\n"
     ]
    }
   ],
   "source": [
    "runner = build_module(\n",
    "    registry=RUNNERS,\n",
    "    cfg=split_cfg,\n",
    "    dataset=loader.get_dataset(),\n",
    "    model_config = model_config,\n",
    "    train_config = train_config,\n",
    ")"
   ]
  },
  {
   "cell_type": "code",
   "execution_count": 4,
   "id": "248ca72d",
   "metadata": {},
   "outputs": [
    {
     "name": "stdout",
     "output_type": "stream",
     "text": [
      "\n",
      "Training model on 480 samples, testing on 120 samples.\n",
      "\n",
      "Epoch 050/50 | [██████████] | Train Loss: 1.6850 | Val Loss: 1.7487 | Acc: 0.2750 | \n",
      "Final evaluation:\n",
      "Test accuracy: 0.2750\n"
     ]
    }
   ],
   "source": [
    "runner.run()"
   ]
  },
  {
   "cell_type": "code",
   "execution_count": null,
   "id": "17eba997",
   "metadata": {},
   "outputs": [],
   "source": []
  }
 ],
 "metadata": {
  "kernelspec": {
   "display_name": "Python 3",
   "language": "python",
   "name": "python3"
  },
  "language_info": {
   "codemirror_mode": {
    "name": "ipython",
    "version": 3
   },
   "file_extension": ".py",
   "mimetype": "text/x-python",
   "name": "python",
   "nbconvert_exporter": "python",
   "pygments_lexer": "ipython3",
   "version": "3.11.9"
  }
 },
 "nbformat": 4,
 "nbformat_minor": 5
}
